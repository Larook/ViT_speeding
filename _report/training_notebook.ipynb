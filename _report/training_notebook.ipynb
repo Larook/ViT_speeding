{
  "nbformat": 4,
  "nbformat_minor": 0,
  "metadata": {
    "colab": {
      "name": "Untitled0.ipynb",
      "provenance": [],
      "collapsed_sections": []
    },
    "kernelspec": {
      "name": "python3",
      "display_name": "Python 3"
    },
    "language_info": {
      "name": "python"
    }
  },
  "cells": [
    {
      "cell_type": "markdown",
      "metadata": {
        "id": "TOUo-0A8MZCX"
      },
      "source": [
        "#Cloning repo - done only once\n",
        "\n",
        "following:\n",
        "https://sadiaafrinpurba.github.io/2020/08/31/how-to-clone-github-private-repositories-from-google-colab-using-ssh/"
      ]
    },
    {
      "cell_type": "markdown",
      "metadata": {
        "id": "0z0TLHNBOHJY"
      },
      "source": [
        "##Goal\n",
        "Want we want to achieve is to clone the repo here so we can run the training algorithms"
      ]
    },
    {
      "cell_type": "code",
      "metadata": {
        "colab": {
          "base_uri": "https://localhost:8080/"
        },
        "id": "_1NLsu2xMY0K",
        "outputId": "bcb9f044-3fe0-45f2-b4ca-e20a75c6bc3c"
      },
      "source": [
        "!git clone git@github.com:Larook/ViT_speeding.git"
      ],
      "execution_count": 2,
      "outputs": [
        {
          "output_type": "stream",
          "name": "stdout",
          "text": [
            "Cloning into 'ViT_speeding'...\n",
            "Host key verification failed.\r\n",
            "fatal: Could not read from remote repository.\n",
            "\n",
            "Please make sure you have the correct access rights\n",
            "and the repository exists.\n"
          ]
        }
      ]
    },
    {
      "cell_type": "markdown",
      "metadata": {
        "id": "JxDWkTzSOQnm"
      },
      "source": [
        "##First generate AND ADD ssh key to the Github to be able to say that this machine is trusted "
      ]
    },
    {
      "cell_type": "code",
      "metadata": {
        "id": "_3DeJiymMYoU"
      },
      "source": [
        "!ssh-keygen -t rsa -b 4096"
      ],
      "execution_count": null,
      "outputs": []
    },
    {
      "cell_type": "markdown",
      "metadata": {
        "id": "6brM048_Of_H"
      },
      "source": [
        "Add SSH key fingerprints to the known_hosts file"
      ]
    },
    {
      "cell_type": "code",
      "metadata": {
        "id": "ukxcUIt5MYhi"
      },
      "source": [
        "!ssh-keyscan -t rsa github.com >> ~/.ssh/known_hosts"
      ],
      "execution_count": null,
      "outputs": []
    },
    {
      "cell_type": "markdown",
      "metadata": {
        "id": "cUe6DdNOOlzO"
      },
      "source": [
        "Show the key. Copy it to trusted ones in github"
      ]
    },
    {
      "cell_type": "code",
      "metadata": {
        "id": "vpJ1LEePMYZr"
      },
      "source": [
        "!cat /root/.ssh/id_rsa.pub"
      ],
      "execution_count": null,
      "outputs": []
    },
    {
      "cell_type": "markdown",
      "metadata": {
        "id": "o-lDu3khOvdX"
      },
      "source": [
        "Test SSH key"
      ]
    },
    {
      "cell_type": "code",
      "metadata": {
        "id": "cssv3Av9MYGB"
      },
      "source": [
        "!ssh -T git@github.com"
      ],
      "execution_count": null,
      "outputs": []
    },
    {
      "cell_type": "markdown",
      "metadata": {
        "id": "D3IdenJOR1Cx"
      },
      "source": [
        "Finally clone the repo! (of course if managed to setup ssh key)"
      ]
    },
    {
      "cell_type": "code",
      "metadata": {
        "id": "ynfaz4ioNfGc"
      },
      "source": [
        "!git clone git@github.com:Larook/ViT_speeding.git"
      ],
      "execution_count": null,
      "outputs": []
    },
    {
      "cell_type": "markdown",
      "metadata": {
        "id": "bJWjbJJcO7CW"
      },
      "source": [
        "OK\n",
        "Now we have the repo cloned, now we need to go to the correct CWD"
      ]
    },
    {
      "cell_type": "code",
      "metadata": {
        "colab": {
          "base_uri": "https://localhost:8080/"
        },
        "id": "wWJiuPZhNr-9",
        "outputId": "6b2b526c-f68f-4ad5-d624-44847d400144"
      },
      "source": [
        "%cd ViT_speeding/"
      ],
      "execution_count": 13,
      "outputs": [
        {
          "output_type": "stream",
          "name": "stdout",
          "text": [
            "/content/ViT_speeding\n"
          ]
        }
      ]
    },
    {
      "cell_type": "code",
      "metadata": {
        "colab": {
          "base_uri": "https://localhost:8080/",
          "height": 35
        },
        "id": "s5ZHSHOXNyXu",
        "outputId": "fe2fa9d3-8a16-4dcd-e918-c016d3837156"
      },
      "source": [
        "%pwd"
      ],
      "execution_count": 15,
      "outputs": [
        {
          "output_type": "execute_result",
          "data": {
            "application/vnd.google.colaboratory.intrinsic+json": {
              "type": "string"
            },
            "text/plain": [
              "'/content/ViT_speeding'"
            ]
          },
          "metadata": {},
          "execution_count": 15
        }
      ]
    },
    {
      "cell_type": "markdown",
      "metadata": {
        "id": "6QH4R0TJPHlv"
      },
      "source": [
        "Install the requirements! Might take some time"
      ]
    },
    {
      "cell_type": "code",
      "metadata": {
        "id": "gPlnfOo7NibW"
      },
      "source": [
        "!pip install -r requirements.txt"
      ],
      "execution_count": null,
      "outputs": []
    },
    {
      "cell_type": "markdown",
      "metadata": {
        "id": "95a3JXzXPNfZ"
      },
      "source": [
        "## Check if its working!!"
      ]
    },
    {
      "cell_type": "code",
      "metadata": {
        "colab": {
          "base_uri": "https://localhost:8080/"
        },
        "id": "SceC7N3madlc",
        "outputId": "eff26f9d-3ba7-411b-ae19-0b4df6a72f81"
      },
      "source": [
        "from ViT_train_model import say_hi\n",
        "say_hi()"
      ],
      "execution_count": 19,
      "outputs": [
        {
          "output_type": "stream",
          "name": "stdout",
          "text": [
            "hello from train\n"
          ]
        }
      ]
    },
    {
      "cell_type": "markdown",
      "metadata": {
        "id": "f76pcmTePQcL"
      },
      "source": [
        "##Upload the wandb login manually!\n",
        "Just create wandb directory and drag and drop the password file. "
      ]
    },
    {
      "cell_type": "code",
      "metadata": {
        "id": "u-atzbV1P_LM"
      },
      "source": [
        "%mkdir wandb"
      ],
      "execution_count": 24,
      "outputs": []
    },
    {
      "cell_type": "markdown",
      "metadata": {
        "id": "oFygKwjnQSho"
      },
      "source": [
        "#UPLOAD THE __login_wandb_pwd.txt now\n"
      ]
    },
    {
      "cell_type": "markdown",
      "metadata": {
        "id": "O44oOkvYQ023"
      },
      "source": [
        "##Now we need to upload data somehow\n",
        "###or run the script that connects many pickles into one :)\n",
        "\n"
      ]
    },
    {
      "cell_type": "markdown",
      "metadata": {
        "id": "fe6JpYtORbD5"
      },
      "source": [
        "first commit to update the notebook"
      ]
    },
    {
      "cell_type": "code",
      "metadata": {
        "colab": {
          "base_uri": "https://localhost:8080/"
        },
        "id": "MAw7cuPPRd-d",
        "outputId": "582030f8-6ec4-49d4-ccac-ee5e54c6d799"
      },
      "source": [
        "!git status"
      ],
      "execution_count": 28,
      "outputs": [
        {
          "output_type": "stream",
          "name": "stdout",
          "text": [
            "On branch master\n",
            "Your branch is up to date with 'origin/master'.\n",
            "\n",
            "nothing to commit, working tree clean\n"
          ]
        }
      ]
    },
    {
      "cell_type": "code",
      "metadata": {
        "colab": {
          "base_uri": "https://localhost:8080/"
        },
        "id": "AeXsSqrKSGDf",
        "outputId": "a45a476d-240c-4307-ff0c-6e41f742a60f"
      },
      "source": [
        "!python model_training/data/get_data_from_all_day_here.py"
      ],
      "execution_count": 29,
      "outputs": [
        {
          "output_type": "stream",
          "name": "stdout",
          "text": [
            "Traceback (most recent call last):\n",
            "  File \"model_training/data/get_data_from_all_day_here.py\", line 1, in <module>\n",
            "    from SimulationData import SimulationData\n",
            "ModuleNotFoundError: No module named 'SimulationData'\n"
          ]
        }
      ]
    },
    {
      "cell_type": "code",
      "metadata": {
        "id": "fO9Gfs_CPclT"
      },
      "source": [
        "from ViT_train_model import run_sweeps_wandb_training\n",
        "run_regular_wandb_training(model='ViT')\n"
      ],
      "execution_count": null,
      "outputs": []
    },
    {
      "cell_type": "code",
      "metadata": {
        "id": "OOtSFzgsPieS"
      },
      "source": [
        ""
      ],
      "execution_count": null,
      "outputs": []
    }
  ]
}